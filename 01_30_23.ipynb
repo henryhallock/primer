{
  "nbformat": 4,
  "nbformat_minor": 0,
  "metadata": {
    "colab": {
      "provenance": [],
      "authorship_tag": "ABX9TyN8fuU/omicqLP2O8Caez2z",
      "include_colab_link": true
    },
    "kernelspec": {
      "name": "python3",
      "display_name": "Python 3"
    },
    "language_info": {
      "name": "python"
    }
  },
  "cells": [
    {
      "cell_type": "markdown",
      "metadata": {
        "id": "view-in-github",
        "colab_type": "text"
      },
      "source": [
        "<a href=\"https://colab.research.google.com/github/henryhallock/primer/blob/master/01_30_23.ipynb\" target=\"_parent\"><img src=\"https://colab.research.google.com/assets/colab-badge.svg\" alt=\"Open In Colab\"/></a>"
      ]
    },
    {
      "cell_type": "markdown",
      "source": [
        "## Add 10 and 20 together ##"
      ],
      "metadata": {
        "id": "jsUweenkT5JU"
      }
    },
    {
      "cell_type": "code",
      "source": [],
      "metadata": {
        "id": "vrHZcodPUOD2"
      },
      "execution_count": null,
      "outputs": []
    },
    {
      "cell_type": "markdown",
      "source": [
        "## Assign the sum of 10 and 20 to a variable called \"sum\" ##\n"
      ],
      "metadata": {
        "id": "_-RP6tciUQ0L"
      }
    },
    {
      "cell_type": "code",
      "source": [
        "sum = 10 + 20"
      ],
      "metadata": {
        "id": "Mp9SWDMOUzTP"
      },
      "execution_count": 2,
      "outputs": []
    },
    {
      "cell_type": "markdown",
      "source": [
        "## Check the contents of the variable you just created by typing it into the command prompt ##"
      ],
      "metadata": {
        "id": "_rTDPwFqU0NA"
      }
    },
    {
      "cell_type": "code",
      "source": [
        "sum"
      ],
      "metadata": {
        "colab": {
          "base_uri": "https://localhost:8080/"
        },
        "id": "GskXEdFsVJvb",
        "outputId": "f4a56243-4d1f-4668-f63c-9678a985501e"
      },
      "execution_count": 3,
      "outputs": [
        {
          "output_type": "execute_result",
          "data": {
            "text/plain": [
              "30"
            ]
          },
          "metadata": {},
          "execution_count": 3
        }
      ]
    },
    {
      "cell_type": "markdown",
      "source": [
        "## Add 40 to your \"sum\" variable ##"
      ],
      "metadata": {
        "id": "lXGV-7e7VLyI"
      }
    },
    {
      "cell_type": "code",
      "source": [
        "sum + 40"
      ],
      "metadata": {
        "colab": {
          "base_uri": "https://localhost:8080/"
        },
        "id": "G2ra4PaFVZPm",
        "outputId": "ffe65d18-7d5d-45e0-ea82-fb4d8505631a"
      },
      "execution_count": 4,
      "outputs": [
        {
          "output_type": "execute_result",
          "data": {
            "text/plain": [
              "70"
            ]
          },
          "metadata": {},
          "execution_count": 4
        }
      ]
    }
  ]
}